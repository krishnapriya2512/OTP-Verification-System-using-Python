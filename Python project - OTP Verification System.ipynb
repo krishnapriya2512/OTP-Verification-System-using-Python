{
 "cells": [
  {
   "cell_type": "markdown",
   "id": "f8fa8a2d",
   "metadata": {},
   "source": [
    "# OTP Verification System\n",
    "\n",
    "#### Problem Statement:\n",
    "Develop an OTP (One-Time Password) verification system in Python. The system should generate a 6-digit OTP and send it to the user's email address for verification. Upon receiving the OTP, the user should enter it into the system for validation. If the entered OTP matches the generated OTP, access should be granted; otherwise, access should be denied."
   ]
  },
  {
   "cell_type": "code",
   "execution_count": 1,
   "id": "db4f05e9",
   "metadata": {},
   "outputs": [],
   "source": [
    "#Importing the necesssary libraries\n",
    "\n",
    "\n",
    "import random # To generate 6-digit random number\n",
    "import smtplib #send email using Simple Mail Transfer Protocol(SMTP)\n",
    "from email.mime.text import MIMEText #Used to send text-based email messages.\n",
    "#MIME - Multipurpose Internet Mail Extensions\n"
   ]
  },
  {
   "cell_type": "code",
   "execution_count": 2,
   "id": "efcd1721",
   "metadata": {},
   "outputs": [],
   "source": [
    "# Function to generate random 6-digit number as OTP\n",
    "\n",
    "def generate_otp():\n",
    "    return str(random.randint(100000, 999999))"
   ]
  },
  {
   "cell_type": "code",
   "execution_count": 3,
   "id": "c8f6fad7",
   "metadata": {},
   "outputs": [],
   "source": [
    "# Defining a function to send the OTP to the user's email\n",
    "def send_otp(email, otp):\n",
    "    sender_email = \"kkp2512@gmail.com\"  # Giving senders email to send the OTP\n",
    "    sender_password = \"hcpq hkjj gwjk vsti\"  # email password to login\n",
    "\n",
    "    # Creating the email content - The text that is displayed in the email. \n",
    "    subject = \"OTP for Verification\"\n",
    "    body = f\"Hello We have created a OTP Verification System. Your OTP is: {otp} \\n Enter the OTP to grant access.\"\n",
    "    message = MIMEText(body, \"plain\")\n",
    "    message[\"Subject\"] = subject \n",
    "    message[\"From\"] = sender_email\n",
    "    message[\"To\"] = email #User entered email \n",
    "\n",
    "    try:\n",
    "        \"\"\"\n",
    "        Connecting to the SMTP server, as mostly people use Gmail, \n",
    "        we use - 'smtp.gmail.com' and port 587 to secure the connection to send the email\n",
    "        \"\"\"\n",
    "        with smtplib.SMTP(\"smtp.gmail.com\", 587) as server:\n",
    "            server.starttls()  # Upgrade to a secure connection\n",
    "            server.login(sender_email, sender_password)\n",
    "            server.sendmail(sender_email, email, message.as_string())\n",
    "        print(f\"OTP sent to {email}.\")\n",
    "    except Exception as e:\n",
    "        print(f\"Failed to send OTP: {e}\")"
   ]
  },
  {
   "cell_type": "code",
   "execution_count": 4,
   "id": "9f0540ec",
   "metadata": {},
   "outputs": [],
   "source": [
    "# Function to prompt the user to enter the OTP\n",
    "def get_user_input():\n",
    "    return input(\"Enter the OTP you received: \")"
   ]
  },
  {
   "cell_type": "code",
   "execution_count": 5,
   "id": "3fb5b610",
   "metadata": {},
   "outputs": [],
   "source": [
    "# Function to verify the entered OTP - Compares the generated and typed OTP\n",
    "def verify_otp(generated_otp, user_otp):\n",
    "    return generated_otp == user_otp"
   ]
  },
  {
   "cell_type": "code",
   "execution_count": 6,
   "id": "669b8e69",
   "metadata": {},
   "outputs": [],
   "source": [
    "# Main function to handle the OTP verification process\n",
    "def otp_verification_system():\n",
    "    # Calling the generate_otp function to Generate OTP\n",
    "    otp = generate_otp()\n",
    "    print(\"A 6-digit OTP has been generated.\")\n",
    "\n",
    "    # Simulating sending OTP to the user's email\n",
    "    user_email = input(\"Enter your email address: \")\n",
    "    send_otp(user_email, otp)\n",
    "\n",
    "    \"\"\"Giving three attempts to the user to enter their password.\n",
    "       After 3 attempts the access will be denied\n",
    "    \"\"\"\n",
    "    max_attempts = 3\n",
    "    for attempt in range(1, max_attempts + 1):\n",
    "        user_otp = get_user_input()\n",
    "        if verify_otp(otp, user_otp):\n",
    "            print(\"OTP verified. Access granted!\")\n",
    "            return\n",
    "        else:\n",
    "            print(f\"Incorrect OTP. {max_attempts - attempt} attempts remaining.\")\n",
    "\n",
    "    # Deny access after 3 incorrect attempts\n",
    "    print(\"Maximum attempts reached. Access denied.\")"
   ]
  },
  {
   "cell_type": "markdown",
   "id": "5a6201a9",
   "metadata": {},
   "source": [
    "Failed verification"
   ]
  },
  {
   "cell_type": "code",
   "execution_count": 4,
   "id": "06f1b4ee",
   "metadata": {},
   "outputs": [
    {
     "name": "stdout",
     "output_type": "stream",
     "text": [
      "A 6-digit OTP has been generated.\n",
      "Enter your email address: kkp2512@gmail.com\n",
      "OTP sent to kkp2512@gmail.com.\n",
      "Enter the OTP you received: 236482\n",
      "Incorrect OTP. 2 attempts remaining.\n",
      "Enter the OTP you received: 234111\n",
      "Incorrect OTP. 1 attempts remaining.\n",
      "Enter the OTP you received: 1231221\n",
      "Incorrect OTP. 0 attempts remaining.\n",
      "Maximum attempts reached. Access denied.\n"
     ]
    }
   ],
   "source": [
    "# Run the OTP verification system\n",
    "if __name__ == \"__main__\":\n",
    "    otp_verification_system()"
   ]
  },
  {
   "cell_type": "markdown",
   "id": "a58ed2dc",
   "metadata": {},
   "source": [
    "Successful Verification"
   ]
  },
  {
   "cell_type": "code",
   "execution_count": 7,
   "id": "3ec5dc9e",
   "metadata": {},
   "outputs": [
    {
     "name": "stdout",
     "output_type": "stream",
     "text": [
      "A 6-digit OTP has been generated.\n",
      "Enter your email address: kkp2512@gmail.com\n",
      "OTP sent to kkp2512@gmail.com.\n",
      "Enter the OTP you received: 448853\n",
      "OTP verified. Access granted!\n"
     ]
    }
   ],
   "source": [
    "# Run the OTP verification system\n",
    "if __name__ == \"__main__\":\n",
    "    otp_verification_system()"
   ]
  },
  {
   "cell_type": "code",
   "execution_count": null,
   "id": "6e67f415",
   "metadata": {},
   "outputs": [],
   "source": []
  }
 ],
 "metadata": {
  "kernelspec": {
   "display_name": "Python 3 (ipykernel)",
   "language": "python",
   "name": "python3"
  },
  "language_info": {
   "codemirror_mode": {
    "name": "ipython",
    "version": 3
   },
   "file_extension": ".py",
   "mimetype": "text/x-python",
   "name": "python",
   "nbconvert_exporter": "python",
   "pygments_lexer": "ipython3",
   "version": "3.11.5"
  }
 },
 "nbformat": 4,
 "nbformat_minor": 5
}
